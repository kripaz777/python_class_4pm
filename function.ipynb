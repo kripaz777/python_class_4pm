{
 "cells": [
  {
   "cell_type": "code",
   "execution_count": 1,
   "id": "0e0c33bf",
   "metadata": {},
   "outputs": [],
   "source": [
    "# print() int() float() str() set() list() dict() input() type()"
   ]
  },
  {
   "cell_type": "code",
   "execution_count": 2,
   "id": "0a6aae97",
   "metadata": {},
   "outputs": [],
   "source": [
    "# def <function_name>():\n",
    "#     <operations>\n",
    "    \n",
    "# function_name()"
   ]
  },
  {
   "cell_type": "code",
   "execution_count": 3,
   "id": "b43d81ae",
   "metadata": {},
   "outputs": [
    {
     "name": "stdout",
     "output_type": "stream",
     "text": [
      "Hello World\n"
     ]
    }
   ],
   "source": [
    "def hello():\n",
    "    print(\"Hello World\")\n",
    "    \n",
    "hello()"
   ]
  },
  {
   "cell_type": "code",
   "execution_count": 4,
   "id": "cd227e83",
   "metadata": {},
   "outputs": [
    {
     "name": "stdout",
     "output_type": "stream",
     "text": [
      "Enter l = 100\n",
      "Enter b = 50\n",
      "5000\n"
     ]
    }
   ],
   "source": [
    "def cal():\n",
    "    l = int(input(\"Enter l = \"))      #local variable\n",
    "    b = int(input(\"Enter b = \"))      #local variable\n",
    "    a = l*b\n",
    "    print(a)\n",
    "    \n",
    "cal()"
   ]
  },
  {
   "cell_type": "code",
   "execution_count": null,
   "id": "244257af",
   "metadata": {},
   "outputs": [],
   "source": [
    "# function without argument and no return type\n",
    "\n",
    "l = int(input(\"Enter l = \"))      #global variable\n",
    "b = int(input(\"Enter b = \"))      #global variable\n",
    "\n",
    "def cal():\n",
    "    \n",
    "    a = l*b\n",
    "    print(a)\n",
    "    \n",
    "cal()"
   ]
  },
  {
   "cell_type": "code",
   "execution_count": 5,
   "id": "97e7e557",
   "metadata": {},
   "outputs": [],
   "source": [
    "# function without argument and no return type\n",
    "# function with argument and no return type\n",
    "# function without argument and  return type\n",
    "# function with argument and  return type"
   ]
  },
  {
   "cell_type": "code",
   "execution_count": null,
   "id": "f03c4e3e",
   "metadata": {},
   "outputs": [],
   "source": [
    "# function with argument and no return type\n",
    "def cal(l,b):   #l,b is parameter\n",
    "    \n",
    "    a = l*b\n",
    "    print(a)\n",
    "    \n",
    "cal(5,2)       # 5, 2 is argument"
   ]
  },
  {
   "cell_type": "code",
   "execution_count": 6,
   "id": "82d80ba5",
   "metadata": {},
   "outputs": [
    {
     "name": "stdout",
     "output_type": "stream",
     "text": [
      "Enter name = Ram\n",
      "Enter age = 34\n",
      "Enter address = Kathmandu\n",
      "Hello World I am Ram. I am from Kathmandu. I am 34\n"
     ]
    }
   ],
   "source": [
    "# function with argument and no return type\n",
    "\n",
    "def info(x,y,z):\n",
    "    print(f\"Hello World I am {x}. I am from {z}. I am {y}\")\n",
    "\n",
    "\n",
    "name = input(\"Enter name = \")\n",
    "age = int(input(\"Enter age = \"))\n",
    "add = input(\"Enter address = \")\n",
    "\n",
    "info(name,age,add)"
   ]
  },
  {
   "cell_type": "code",
   "execution_count": 7,
   "id": "849f7b07",
   "metadata": {},
   "outputs": [
    {
     "name": "stdout",
     "output_type": "stream",
     "text": [
      "Enter a = 10\n",
      "Enter b = 2\n",
      "Enter + or - or * or / +\n",
      "12\n"
     ]
    }
   ],
   "source": [
    "def cal(a,b,o):\n",
    "    if o == \"+\":\n",
    "        print(a + b)\n",
    "    elif o == '-':\n",
    "        print(a - b)\n",
    "    elif o == '*':\n",
    "        print(a * b)\n",
    "    elif o == '/':\n",
    "        print(a / b)\n",
    "    else:\n",
    "        print(\"Enter valid operator\")\n",
    "\n",
    "a = int(input(\"Enter a = \"))\n",
    "b = int(input(\"Enter b = \"))\n",
    "o = input(\"Enter + or - or * or / \")\n",
    "cal(a,b,o)"
   ]
  },
  {
   "cell_type": "code",
   "execution_count": 9,
   "id": "fb86ba38",
   "metadata": {},
   "outputs": [
    {
     "name": "stdout",
     "output_type": "stream",
     "text": [
      "Enter name = Ram\n",
      "Enter physics marks = 78\n",
      "Enter chemistry marks = 34\n",
      "Enter math marks = 56\n",
      "Enter english marks = 43\n",
      "Enter nepali marks = 34\n",
      "Your name = Ram\n",
      "Total marks = 245\n",
      "Percentage = 49.0 %\n",
      "Grade =  C\n"
     ]
    }
   ],
   "source": [
    "def result(info):\n",
    "    total = sum(info[1:])\n",
    "    per = total/5\n",
    "    if per >= 80:\n",
    "        grade = \"A\"\n",
    "    elif per >=60:\n",
    "        grade = \"B\"\n",
    "    elif per >=45:\n",
    "        grade = \"C\"\n",
    "    else:\n",
    "        grade = \"F\"\n",
    "\n",
    "    print(\"Your name =\",info[0])\n",
    "    print(\"Total marks =\",total)\n",
    "    print(\"Percentage =\",per,\"%\")\n",
    "    print(\"Grade = \",grade)\n",
    "    \n",
    "name = input(\"Enter name = \")\n",
    "physics = int(input(\"Enter physics marks = \"))\n",
    "chemistry = int(input(\"Enter chemistry marks = \"))\n",
    "math = int(input(\"Enter math marks = \"))\n",
    "english = int(input(\"Enter english marks = \"))\n",
    "nepali = int(input(\"Enter nepali marks = \"))\n",
    "info = [name,physics,chemistry,math,english,nepali]\n",
    "result(info)"
   ]
  },
  {
   "cell_type": "code",
   "execution_count": 10,
   "id": "4a3016ed",
   "metadata": {},
   "outputs": [
    {
     "name": "stdout",
     "output_type": "stream",
     "text": [
      "C\n",
      "C++\n",
      "C#\n",
      "Java\n",
      "Python\n"
     ]
    }
   ],
   "source": [
    "def language(lan = \"Python\"):\n",
    "    print(lan)\n",
    "    \n",
    "language(\"C\")\n",
    "language(\"C++\")\n",
    "language(\"C#\")\n",
    "language(\"Java\")\n",
    "language()"
   ]
  },
  {
   "cell_type": "code",
   "execution_count": 13,
   "id": "bd24f6d5",
   "metadata": {},
   "outputs": [
    {
     "name": "stdout",
     "output_type": "stream",
     "text": [
      "15\n",
      "10\n"
     ]
    }
   ],
   "source": [
    "def area(l,b = 2):\n",
    "    a = l*b\n",
    "    print(a)\n",
    "    \n",
    "area(5,3)\n",
    "area(5)"
   ]
  },
  {
   "cell_type": "code",
   "execution_count": 14,
   "id": "54c71988",
   "metadata": {},
   "outputs": [],
   "source": [
    "# return type function"
   ]
  },
  {
   "cell_type": "code",
   "execution_count": 15,
   "id": "87d2397c",
   "metadata": {},
   "outputs": [
    {
     "name": "stdout",
     "output_type": "stream",
     "text": [
      "10\n"
     ]
    }
   ],
   "source": [
    "def area(l,b):\n",
    "    a = l*b\n",
    "    return a\n",
    "\n",
    "print(area(5,2))"
   ]
  },
  {
   "cell_type": "code",
   "execution_count": 16,
   "id": "4e49ff11",
   "metadata": {},
   "outputs": [
    {
     "name": "stdout",
     "output_type": "stream",
     "text": [
      "10\n"
     ]
    }
   ],
   "source": [
    "def area(l,b):\n",
    "    a = l*b\n",
    "    return a\n",
    "\n",
    "ar = area(5,2)\n",
    "h = 2\n",
    "v = h*ar\n",
    "print(v)"
   ]
  },
  {
   "cell_type": "code",
   "execution_count": 2,
   "id": "e7f07361",
   "metadata": {},
   "outputs": [
    {
     "name": "stdout",
     "output_type": "stream",
     "text": [
      "Ths area is =  50\n",
      "The volume =  100\n"
     ]
    }
   ],
   "source": [
    "def cal(l,b,h):\n",
    "    a = l*b\n",
    "    v = a*h\n",
    "    return a,v\n",
    "\n",
    "area,volume = cal(10,5,2)\n",
    "print(\"Ths area is = \",area)\n",
    "print(\"The volume = \",volume)"
   ]
  },
  {
   "cell_type": "code",
   "execution_count": null,
   "id": "6ec452e1",
   "metadata": {},
   "outputs": [],
   "source": [
    "def add(a,b):\n",
    "    return a+b\n",
    "def sub(a,b):\n",
    "    return a-b\n",
    "def mul(a,b):\n",
    "    return a*b\n",
    "def div(a,b):\n",
    "    return a/b\n",
    "\n",
    "a = int(input(\"Enter a = \"))\n",
    "b = int(input(\"Enter b = \"))\n",
    "o = input(\"Enter + or - or * or / \")\n",
    "\n",
    "if o == \"+\":\n",
    "    print(add(a,b))\n",
    "elif o == '-':\n",
    "    print(sub(a,b))\n",
    "elif o == '*':\n",
    "    print(mul(a,b))\n",
    "elif o == '/':\n",
    "    print(div(a,b))\n",
    "else:\n",
    "    print(\"Enter valid operator\")"
   ]
  },
  {
   "cell_type": "code",
   "execution_count": 3,
   "id": "cd86efe0",
   "metadata": {},
   "outputs": [],
   "source": [
    "# lambda function"
   ]
  },
  {
   "cell_type": "code",
   "execution_count": 4,
   "id": "71b1a9e5",
   "metadata": {},
   "outputs": [],
   "source": [
    "# x = lambda <arguments>:<operation>"
   ]
  },
  {
   "cell_type": "code",
   "execution_count": 5,
   "id": "96eda0ec",
   "metadata": {},
   "outputs": [
    {
     "name": "stdout",
     "output_type": "stream",
     "text": [
      "25\n"
     ]
    }
   ],
   "source": [
    "x = lambda a:a**2\n",
    "print(x(5))"
   ]
  },
  {
   "cell_type": "code",
   "execution_count": 6,
   "id": "722f61c3",
   "metadata": {},
   "outputs": [
    {
     "name": "stdout",
     "output_type": "stream",
     "text": [
      "25\n"
     ]
    }
   ],
   "source": [
    "x = lambda l,b:l*b\n",
    "print(x(5,5))"
   ]
  },
  {
   "cell_type": "code",
   "execution_count": 7,
   "id": "ffe509ef",
   "metadata": {},
   "outputs": [],
   "source": [
    "# map() filter()"
   ]
  },
  {
   "cell_type": "code",
   "execution_count": null,
   "id": "97f69938",
   "metadata": {},
   "outputs": [],
   "source": [
    "# map()\n",
    "# list(map(lambda <argument>:<operation>,list))\n"
   ]
  },
  {
   "cell_type": "code",
   "execution_count": 8,
   "id": "6c434aa2",
   "metadata": {},
   "outputs": [
    {
     "data": {
      "text/plain": [
       "[9500.0, 19000.0, 38000.0, 4750.0, 950.0, 28500.0]"
      ]
     },
     "execution_count": 8,
     "metadata": {},
     "output_type": "execute_result"
    }
   ],
   "source": [
    "a = [10000,20000,40000,5000,1000,30000]\n",
    "list(map(lambda x:x*0.95, a))"
   ]
  },
  {
   "cell_type": "code",
   "execution_count": 10,
   "id": "3a29b975",
   "metadata": {},
   "outputs": [
    {
     "data": {
      "text/plain": [
       "['apple', 'ball', 'cat']"
      ]
     },
     "execution_count": 10,
     "metadata": {},
     "output_type": "execute_result"
    }
   ],
   "source": [
    "a = [\"Apple\",\"Ball\",\"Cat\"]\n",
    "b = list(map(lambda x:x.lower(), a))\n",
    "b"
   ]
  },
  {
   "cell_type": "code",
   "execution_count": 11,
   "id": "6a1d95a8",
   "metadata": {},
   "outputs": [],
   "source": [
    "# filter()\n",
    "# list(filter(lambda <argument>:<condition>,list))"
   ]
  },
  {
   "cell_type": "code",
   "execution_count": 12,
   "id": "70d5c3d2",
   "metadata": {},
   "outputs": [
    {
     "data": {
      "text/plain": [
       "[10000, 20000, 40000, 30000]"
      ]
     },
     "execution_count": 12,
     "metadata": {},
     "output_type": "execute_result"
    }
   ],
   "source": [
    "a = [10000,20000,40000,5000,1000,30000]\n",
    "list(filter(lambda x:x>5000, a))"
   ]
  },
  {
   "cell_type": "code",
   "execution_count": 13,
   "id": "c694c7aa",
   "metadata": {},
   "outputs": [
    {
     "data": {
      "text/plain": [
       "[1, 2, 3, 4, 5, 6, 7, 8, 9, 10, 11, 12, 13, 14, 15, 16, 17, 18, 19, 20]"
      ]
     },
     "execution_count": 13,
     "metadata": {},
     "output_type": "execute_result"
    }
   ],
   "source": [
    "a = [i for i in range(1,21)]\n",
    "a"
   ]
  },
  {
   "cell_type": "code",
   "execution_count": 14,
   "id": "3b25ea1a",
   "metadata": {},
   "outputs": [
    {
     "data": {
      "text/plain": [
       "[1,\n",
       " 4,\n",
       " 9,\n",
       " 16,\n",
       " 25,\n",
       " 36,\n",
       " 49,\n",
       " 64,\n",
       " 81,\n",
       " 100,\n",
       " 121,\n",
       " 144,\n",
       " 169,\n",
       " 196,\n",
       " 225,\n",
       " 256,\n",
       " 289,\n",
       " 324,\n",
       " 361,\n",
       " 400]"
      ]
     },
     "execution_count": 14,
     "metadata": {},
     "output_type": "execute_result"
    }
   ],
   "source": [
    "a = [i**2 for i in range(1,21)]\n",
    "a"
   ]
  },
  {
   "cell_type": "code",
   "execution_count": 15,
   "id": "1d4b6dc9",
   "metadata": {},
   "outputs": [
    {
     "name": "stdout",
     "output_type": "stream",
     "text": [
      "Enter value234\n",
      "Enter value345\n",
      "Enter value342\n",
      "Enter value546\n",
      "Enter value234\n"
     ]
    },
    {
     "data": {
      "text/plain": [
       "[234, 345, 342, 546, 234]"
      ]
     },
     "execution_count": 15,
     "metadata": {},
     "output_type": "execute_result"
    }
   ],
   "source": [
    "a = [int(input(\"Enter value = \")) for i in range(5)]\n",
    "a"
   ]
  },
  {
   "cell_type": "code",
   "execution_count": 16,
   "id": "f278e5f2",
   "metadata": {},
   "outputs": [
    {
     "name": "stdout",
     "output_type": "stream",
     "text": [
      "Enter name = Ram\n",
      "Enter phone no 9808778765\n",
      "Enter name = Shyam\n",
      "Enter phone no 9808778765\n"
     ]
    }
   ],
   "source": [
    "a = {input(\"Enter name = \"):input(\"Enter phone no \") for i in range(2)}"
   ]
  },
  {
   "cell_type": "code",
   "execution_count": 17,
   "id": "da8feb5c",
   "metadata": {},
   "outputs": [
    {
     "data": {
      "text/plain": [
       "{'Ram': '9808778765', 'Shyam': '9808778765'}"
      ]
     },
     "execution_count": 17,
     "metadata": {},
     "output_type": "execute_result"
    }
   ],
   "source": [
    "a"
   ]
  },
  {
   "cell_type": "code",
   "execution_count": null,
   "id": "caf11a3e",
   "metadata": {},
   "outputs": [],
   "source": [
    "# recursive function\n",
    "def hello():\n",
    "    print(\"Hello World\")\n",
    "    hello()\n",
    "    \n",
    "hello()"
   ]
  },
  {
   "cell_type": "code",
   "execution_count": 1,
   "id": "336d3230",
   "metadata": {},
   "outputs": [
    {
     "name": "stdout",
     "output_type": "stream",
     "text": [
      "Hello World\n",
      "Enter y for more print y\n",
      "Hello World\n",
      "Enter y for more print y\n",
      "Hello World\n",
      "Enter y for more print sfd\n"
     ]
    }
   ],
   "source": [
    "# recursive function\n",
    "def hello():\n",
    "    print(\"Hello World\")\n",
    "    x = input(\"Enter y for more print \")\n",
    "    if x =='y':\n",
    "        hello()\n",
    "    \n",
    "hello()"
   ]
  },
  {
   "cell_type": "code",
   "execution_count": 2,
   "id": "37412be3",
   "metadata": {},
   "outputs": [
    {
     "name": "stdout",
     "output_type": "stream",
     "text": [
      "Enter radius = 7\n",
      "153.93804002589985\n"
     ]
    }
   ],
   "source": [
    "# math function\n",
    "import math as m\n",
    "\n",
    "r = float(input(\"Enter radius = \"))\n",
    "a = m.pi * m.pow(r,2)\n",
    "\n",
    "print(a)"
   ]
  },
  {
   "cell_type": "code",
   "execution_count": 4,
   "id": "ad3ed85e",
   "metadata": {},
   "outputs": [
    {
     "name": "stdout",
     "output_type": "stream",
     "text": [
      "1.0\n"
     ]
    }
   ],
   "source": [
    "a = m.sin(m.pi/2)\n",
    "print(a)"
   ]
  },
  {
   "cell_type": "code",
   "execution_count": null,
   "id": "ff17827c",
   "metadata": {},
   "outputs": [],
   "source": []
  }
 ],
 "metadata": {
  "kernelspec": {
   "display_name": "Python 3 (ipykernel)",
   "language": "python",
   "name": "python3"
  },
  "language_info": {
   "codemirror_mode": {
    "name": "ipython",
    "version": 3
   },
   "file_extension": ".py",
   "mimetype": "text/x-python",
   "name": "python",
   "nbconvert_exporter": "python",
   "pygments_lexer": "ipython3",
   "version": "3.9.12"
  }
 },
 "nbformat": 4,
 "nbformat_minor": 5
}
