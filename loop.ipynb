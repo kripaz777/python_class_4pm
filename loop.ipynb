{
 "cells": [
  {
   "cell_type": "code",
   "execution_count": 1,
   "id": "00c53f57",
   "metadata": {},
   "outputs": [],
   "source": [
    "# Loop\n",
    "# for loop\n",
    "# while loop"
   ]
  },
  {
   "cell_type": "code",
   "execution_count": 2,
   "id": "bca90b05",
   "metadata": {},
   "outputs": [],
   "source": [
    "# range(5) -> 0,1,2,3,4\n",
    "# range(1,5) -> 1,2,3,4\n",
    "# range(1,10,2) ->1,3,5,7,9"
   ]
  },
  {
   "cell_type": "code",
   "execution_count": 4,
   "id": "c14ee74f",
   "metadata": {},
   "outputs": [
    {
     "name": "stdout",
     "output_type": "stream",
     "text": [
      "0 Hello World\n",
      "1 Hello World\n",
      "2 Hello World\n",
      "3 Hello World\n",
      "4 Hello World\n"
     ]
    }
   ],
   "source": [
    "for i in range(5):\n",
    "    print(i,\"Hello World\")"
   ]
  },
  {
   "cell_type": "code",
   "execution_count": 5,
   "id": "e1655493",
   "metadata": {},
   "outputs": [
    {
     "name": "stdout",
     "output_type": "stream",
     "text": [
      "1 Hello World\n",
      "2 Hello World\n",
      "3 Hello World\n",
      "4 Hello World\n"
     ]
    }
   ],
   "source": [
    "for i in range(1,5):\n",
    "    print(i,\"Hello World\")"
   ]
  },
  {
   "cell_type": "code",
   "execution_count": 7,
   "id": "2f84437a",
   "metadata": {},
   "outputs": [
    {
     "name": "stdout",
     "output_type": "stream",
     "text": [
      "0 Hello World\n",
      "2 Hello World\n",
      "4 Hello World\n",
      "6 Hello World\n",
      "8 Hello World\n"
     ]
    }
   ],
   "source": [
    "for i in range(0,10,2):\n",
    "    print(i,\"Hello World\")"
   ]
  },
  {
   "cell_type": "code",
   "execution_count": 10,
   "id": "b7c4756a",
   "metadata": {},
   "outputs": [
    {
     "name": "stdout",
     "output_type": "stream",
     "text": [
      "Enter n = 5\n",
      "5\n",
      "10\n",
      "15\n",
      "20\n",
      "25\n",
      "30\n",
      "35\n",
      "40\n",
      "45\n",
      "50\n"
     ]
    }
   ],
   "source": [
    "n = int(input(\"Enter n = \"))\n",
    "for i in range(1,11):\n",
    "    print(i*n)"
   ]
  },
  {
   "cell_type": "code",
   "execution_count": 11,
   "id": "d2c7103b",
   "metadata": {},
   "outputs": [
    {
     "name": "stdout",
     "output_type": "stream",
     "text": [
      "Enter n = 5\n",
      "5 * 1 = 5\n",
      "5 * 2 = 10\n",
      "5 * 3 = 15\n",
      "5 * 4 = 20\n",
      "5 * 5 = 25\n",
      "5 * 6 = 30\n",
      "5 * 7 = 35\n",
      "5 * 8 = 40\n",
      "5 * 9 = 45\n",
      "5 * 10 = 50\n"
     ]
    }
   ],
   "source": [
    "n = int(input(\"Enter n = \"))\n",
    "for i in range(1,11):\n",
    "    print(n,\"*\",i,\"=\",i*n)"
   ]
  },
  {
   "cell_type": "code",
   "execution_count": 14,
   "id": "f31b320f",
   "metadata": {},
   "outputs": [
    {
     "name": "stdout",
     "output_type": "stream",
     "text": [
      "Enter n = 6\n",
      "Enter x = 234234\n",
      "Enter x = 455454\n",
      "Enter x = 23423\n",
      "Enter x = 56756\n",
      "Enter x = 2343\n",
      "Enter x = 45654\n",
      "817864\n"
     ]
    }
   ],
   "source": [
    "s = 0\n",
    "n = int(input(\"Enter n = \"))\n",
    "for i in range(n):\n",
    "    x = int(input(\"Enter x = \"))\n",
    "    s = s + x\n",
    "    \n",
    "print(s)"
   ]
  },
  {
   "cell_type": "code",
   "execution_count": 17,
   "id": "747f48d1",
   "metadata": {},
   "outputs": [],
   "source": [
    "s = str()\n",
    "n = int(input(\"Enter n = \"))\n",
    "for i in range(n):\n",
    "    x = input(\"Enter x = \")\n",
    "    s = s + x + \"\\n\"\n",
    "    \n",
    "print(s)"
   ]
  },
  {
   "cell_type": "code",
   "execution_count": 18,
   "id": "3f5e7b9c",
   "metadata": {},
   "outputs": [
    {
     "name": "stdout",
     "output_type": "stream",
     "text": [
      "Enter n = 2\n",
      "Enter x = Ram\n",
      "Enter phone = 9808778754\n",
      "Enter x = Shyam\n",
      "Enter phone = 9808334654\n",
      "Ram 9808778754\n",
      "Shyam 9808334654\n",
      "\n"
     ]
    }
   ],
   "source": [
    "s = str()\n",
    "n = int(input(\"Enter n = \"))\n",
    "for i in range(n):\n",
    "    name = input(\"Enter x = \")\n",
    "    phone = int(input(\"Enter phone = \"))\n",
    "    s = s + name + \" \" + str(phone) + \"\\n\"    \n",
    "print(s)"
   ]
  },
  {
   "cell_type": "code",
   "execution_count": 22,
   "id": "2a59ac7a",
   "metadata": {},
   "outputs": [
    {
     "name": "stdout",
     "output_type": "stream",
     "text": [
      "Enter n = 5\n",
      "120\n"
     ]
    }
   ],
   "source": [
    "# 5! = 1*2*3*4*5\n",
    "fac = 1\n",
    "n = int(input(\"Enter n = \"))\n",
    "for i in range(1,n+1):\n",
    "    fac = fac*i\n",
    "    \n",
    "print(fac)"
   ]
  },
  {
   "cell_type": "code",
   "execution_count": 24,
   "id": "bbd0ec1b",
   "metadata": {},
   "outputs": [
    {
     "name": "stdout",
     "output_type": "stream",
     "text": [
      "5\n",
      "4\n",
      "3\n",
      "2\n",
      "1\n"
     ]
    }
   ],
   "source": [
    "for i in range(5,0,-1):\n",
    "    print(i)"
   ]
  },
  {
   "cell_type": "code",
   "execution_count": 25,
   "id": "35e7e569",
   "metadata": {},
   "outputs": [],
   "source": [
    "# for loop in string"
   ]
  },
  {
   "cell_type": "code",
   "execution_count": 27,
   "id": "3cd8bc38",
   "metadata": {},
   "outputs": [
    {
     "name": "stdout",
     "output_type": "stream",
     "text": [
      "P Hello World\n",
      "y Hello World\n",
      "t Hello World\n",
      "h Hello World\n",
      "o Hello World\n",
      "n Hello World\n"
     ]
    }
   ],
   "source": [
    "a = \"Python\"\n",
    "for i in a:\n",
    "    print(i,\"Hello World\")"
   ]
  },
  {
   "cell_type": "code",
   "execution_count": 29,
   "id": "00703502",
   "metadata": {},
   "outputs": [
    {
     "name": "stdout",
     "output_type": "stream",
     "text": [
      "Hello World Python"
     ]
    }
   ],
   "source": [
    "a = \"Hello World Python\"\n",
    "for i in a:\n",
    "    print(i,end = \"\")"
   ]
  },
  {
   "cell_type": "code",
   "execution_count": 31,
   "id": "cbe3f2e1",
   "metadata": {},
   "outputs": [
    {
     "name": "stdout",
     "output_type": "stream",
     "text": [
      "0 1 2 3 4 "
     ]
    }
   ],
   "source": [
    "for i in range(5):\n",
    "    print(i,end = \" \")"
   ]
  },
  {
   "cell_type": "code",
   "execution_count": 1,
   "id": "fb03c948",
   "metadata": {},
   "outputs": [],
   "source": [
    "# control statement"
   ]
  },
  {
   "cell_type": "code",
   "execution_count": 2,
   "id": "b63094d0",
   "metadata": {},
   "outputs": [],
   "source": [
    "# break\n",
    "# continue"
   ]
  },
  {
   "cell_type": "code",
   "execution_count": 4,
   "id": "498a633c",
   "metadata": {},
   "outputs": [
    {
     "name": "stdout",
     "output_type": "stream",
     "text": [
      "0\n",
      "1\n",
      "2\n",
      "3\n",
      "4\n"
     ]
    }
   ],
   "source": [
    "for i in range(10):\n",
    "    if i == 5:\n",
    "        break\n",
    "    print(i)"
   ]
  },
  {
   "cell_type": "code",
   "execution_count": 7,
   "id": "8c961b8e",
   "metadata": {},
   "outputs": [
    {
     "name": "stdout",
     "output_type": "stream",
     "text": [
      "Hello World"
     ]
    }
   ],
   "source": [
    "a = \"Hello World. I am Python.\"\n",
    "for i in a:\n",
    "    if i == \".\":\n",
    "        break\n",
    "    print(i,end = \"\")"
   ]
  },
  {
   "cell_type": "code",
   "execution_count": 12,
   "id": "4d86be5d",
   "metadata": {},
   "outputs": [
    {
     "name": "stdout",
     "output_type": "stream",
     "text": [
      "0 1 2 3 4 6 7 8 9 "
     ]
    }
   ],
   "source": [
    "for i in range(10):\n",
    "    if i == 5:\n",
    "        continue\n",
    "    print(i, end = \" \")"
   ]
  },
  {
   "cell_type": "code",
   "execution_count": 13,
   "id": "4fe28227",
   "metadata": {},
   "outputs": [
    {
     "name": "stdout",
     "output_type": "stream",
     "text": [
      "Hello World I am Python"
     ]
    }
   ],
   "source": [
    "a = \"Hello World. I am Python.\"\n",
    "for i in a:\n",
    "    if i == \".\":\n",
    "        continue\n",
    "    print(i,end = \"\")"
   ]
  },
  {
   "cell_type": "code",
   "execution_count": null,
   "id": "d66eb971",
   "metadata": {},
   "outputs": [],
   "source": [
    "# prime -> 2,3,5,7,11,13,17,19\n",
    "# composite ->4,6,8,9,10,12,14,15"
   ]
  },
  {
   "cell_type": "code",
   "execution_count": 18,
   "id": "a1a2d8c0",
   "metadata": {},
   "outputs": [
    {
     "name": "stdout",
     "output_type": "stream",
     "text": [
      "Enter n = 10\n",
      "This is composite no.\n"
     ]
    }
   ],
   "source": [
    "# for else loop\n",
    "n = int(input(\"Enter n = \"))\n",
    "for i in range(2,n):\n",
    "    if n%i==0:\n",
    "        print(\"This is composite no.\")\n",
    "        break\n",
    "else:\n",
    "    print(\"This is prime no\")"
   ]
  },
  {
   "cell_type": "code",
   "execution_count": 19,
   "id": "2f5bcc5c",
   "metadata": {},
   "outputs": [],
   "source": [
    "# While loop"
   ]
  },
  {
   "cell_type": "code",
   "execution_count": 20,
   "id": "4dbf652b",
   "metadata": {},
   "outputs": [],
   "source": [
    "# while <condition>:\n",
    "#     <Operations>"
   ]
  },
  {
   "cell_type": "code",
   "execution_count": 24,
   "id": "697d4e69",
   "metadata": {},
   "outputs": [
    {
     "name": "stdout",
     "output_type": "stream",
     "text": [
      "0 Hello World\n",
      "1 Hello World\n",
      "2 Hello World\n",
      "3 Hello World\n",
      "4 Hello World\n"
     ]
    }
   ],
   "source": [
    "a = 0\n",
    "while a<5:\n",
    "    print(a,\"Hello World\")\n",
    "    a = a+1\n",
    "#     a += 1"
   ]
  },
  {
   "cell_type": "code",
   "execution_count": 25,
   "id": "7e3ad8e4",
   "metadata": {},
   "outputs": [
    {
     "name": "stdout",
     "output_type": "stream",
     "text": [
      "1 Hello World\n",
      "2 Hello World\n",
      "3 Hello World\n",
      "4 Hello World\n"
     ]
    }
   ],
   "source": [
    "a = 1\n",
    "while a<5:\n",
    "    print(a,\"Hello World\")\n",
    "    a = a+1\n",
    "#     a += 1"
   ]
  },
  {
   "cell_type": "code",
   "execution_count": 26,
   "id": "da34df20",
   "metadata": {},
   "outputs": [
    {
     "name": "stdout",
     "output_type": "stream",
     "text": [
      "5 Hello World\n",
      "4 Hello World\n",
      "3 Hello World\n",
      "2 Hello World\n",
      "1 Hello World\n"
     ]
    }
   ],
   "source": [
    "a = 5\n",
    "while a>0:\n",
    "    print(a,\"Hello World\")\n",
    "    a = a-1\n",
    "#     a += 1"
   ]
  },
  {
   "cell_type": "code",
   "execution_count": 28,
   "id": "7c5379c7",
   "metadata": {},
   "outputs": [],
   "source": [
    "i = 1\n",
    "n = int(input(\"Enter n = \"))\n",
    "while i<=10:\n",
    "    print(n,\"*\",i,\"=\",i*n)\n",
    "    i = i+1"
   ]
  },
  {
   "cell_type": "code",
   "execution_count": null,
   "id": "a8c13a5a",
   "metadata": {},
   "outputs": [],
   "source": [
    "i = 0\n",
    "s = str()\n",
    "n = int(input(\"Enter n = \"))\n",
    "while i<n:\n",
    "    name = input(\"Enter x = \")\n",
    "    phone = int(input(\"Enter phone = \"))\n",
    "    s = s + name + \" \" + str(phone) + \"\\n\"\n",
    "    i = i+1\n",
    "print(s)"
   ]
  },
  {
   "cell_type": "code",
   "execution_count": 29,
   "id": "3237ea22",
   "metadata": {},
   "outputs": [
    {
     "name": "stdout",
     "output_type": "stream",
     "text": [
      "Enter n = 5\n",
      "120\n"
     ]
    }
   ],
   "source": [
    "# 5! = 1*2*3*4*5\n",
    "fac = 1\n",
    "i = 1\n",
    "n = int(input(\"Enter n = \"))\n",
    "while i<=n:\n",
    "    fac = fac*i\n",
    "    i = i+1\n",
    "print(fac)"
   ]
  },
  {
   "cell_type": "code",
   "execution_count": 30,
   "id": "f24ede18",
   "metadata": {},
   "outputs": [
    {
     "name": "stdout",
     "output_type": "stream",
     "text": [
      "0\n",
      "1\n",
      "2\n",
      "3\n",
      "4\n"
     ]
    }
   ],
   "source": [
    "# while loop with break\n",
    "i = 0\n",
    "while i<10:\n",
    "    if i == 5:\n",
    "        break\n",
    "    print(i)\n",
    "    i = i+1"
   ]
  },
  {
   "cell_type": "code",
   "execution_count": 33,
   "id": "e1eabf48",
   "metadata": {},
   "outputs": [
    {
     "name": "stdout",
     "output_type": "stream",
     "text": [
      "0 1 2 3 4 6 7 8 9 "
     ]
    }
   ],
   "source": [
    "# while loop with continue\n",
    "i = 0\n",
    "while i<10:\n",
    "    if i == 5:\n",
    "        i = i+1\n",
    "        continue\n",
    "    print(i, end = \" \")\n",
    "    i = i+1"
   ]
  },
  {
   "cell_type": "code",
   "execution_count": null,
   "id": "bc376903",
   "metadata": {},
   "outputs": [],
   "source": []
  }
 ],
 "metadata": {
  "kernelspec": {
   "display_name": "Python 3 (ipykernel)",
   "language": "python",
   "name": "python3"
  },
  "language_info": {
   "codemirror_mode": {
    "name": "ipython",
    "version": 3
   },
   "file_extension": ".py",
   "mimetype": "text/x-python",
   "name": "python",
   "nbconvert_exporter": "python",
   "pygments_lexer": "ipython3",
   "version": "3.9.12"
  }
 },
 "nbformat": 4,
 "nbformat_minor": 5
}
