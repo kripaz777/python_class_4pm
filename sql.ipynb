{
 "cells": [
  {
   "cell_type": "code",
   "execution_count": 2,
   "id": "937272e1",
   "metadata": {},
   "outputs": [],
   "source": [
    "# !pip install mysql-connector"
   ]
  },
  {
   "cell_type": "code",
   "execution_count": 14,
   "id": "278e00e4",
   "metadata": {},
   "outputs": [],
   "source": [
    "import mysql.connector\n",
    "#importing database\n",
    "database = mysql.connector.connect(\n",
    "            host=\"localhost\",\n",
    "            user=\"root\",\n",
    "            password=\"\",\n",
    "            database = \"pythonclass4pm\"\n",
    ")\n",
    "db = database.cursor()"
   ]
  },
  {
   "cell_type": "code",
   "execution_count": 15,
   "id": "68908782",
   "metadata": {},
   "outputs": [
    {
     "name": "stdout",
     "output_type": "stream",
     "text": [
      "[(1, 'Ram', 89, 76, 90, 92, 87, 470, 86.0, 'A'), (2, 'Shyam', 89, 90, 98, 89, 78, 98, 489.0, 'A')]\n"
     ]
    }
   ],
   "source": [
    "#Read data from database\n",
    "sql = \"SELECT * from student\"\n",
    "db.execute(sql)\n",
    "result = db.fetchall()\n",
    "print(result)"
   ]
  },
  {
   "cell_type": "code",
   "execution_count": 16,
   "id": "e6680a77",
   "metadata": {},
   "outputs": [
    {
     "name": "stdout",
     "output_type": "stream",
     "text": [
      "[(1, 'Ram', 470, 'A'), (2, 'Shyam', 98, 'A')]\n"
     ]
    }
   ],
   "source": [
    "sql = \"SELECT sn,name,total,grade from student\"\n",
    "db.execute(sql)\n",
    "result = db.fetchall()\n",
    "print(result)"
   ]
  },
  {
   "cell_type": "code",
   "execution_count": 17,
   "id": "4d723f2e",
   "metadata": {},
   "outputs": [
    {
     "name": "stdout",
     "output_type": "stream",
     "text": [
      "[(1, 'Ram', 89, 76, 90, 92, 87, 470, 86.0, 'A'), (2, 'Shyam', 89, 90, 98, 89, 78, 98, 489.0, 'A')]\n"
     ]
    }
   ],
   "source": [
    "#Read data from database\n",
    "sql = \"SELECT * from student WHERE grade = 'A'\"\n",
    "db.execute(sql)\n",
    "result = db.fetchall()\n",
    "print(result)"
   ]
  },
  {
   "cell_type": "code",
   "execution_count": 18,
   "id": "fb72235f",
   "metadata": {},
   "outputs": [],
   "source": [
    "#insert in database\n",
    "sql = '''INSERT INTO `student` (`name`, `physics`, `chemistry`, `math`, `english`, `nepali`,\n",
    "`total`, `per`, `grade`) VALUES ('Shyam', '89', '67', '70', '75', '76', '80', '78', 'B');'''\n",
    "db.execute(sql)\n",
    "database.commit()"
   ]
  },
  {
   "cell_type": "code",
   "execution_count": 19,
   "id": "20bc6720",
   "metadata": {},
   "outputs": [],
   "source": [
    "# WAP to take input from user and insert it into database"
   ]
  },
  {
   "cell_type": "code",
   "execution_count": 20,
   "id": "c47cdfd6",
   "metadata": {},
   "outputs": [],
   "source": [
    "# update\n",
    "sql = \"UPDATE student SET name = 'Ram Hari' WHERE name = 'RamHari'\"\n",
    "db.execute(sql)\n",
    "database.commit()"
   ]
  },
  {
   "cell_type": "code",
   "execution_count": 21,
   "id": "b84c42f1",
   "metadata": {},
   "outputs": [],
   "source": [
    "# Delete\n",
    "sql = \"DELETE from student WHERE sn = 5\"\n",
    "db.execute(sql)\n",
    "database.commit()"
   ]
  },
  {
   "cell_type": "code",
   "execution_count": null,
   "id": "39eaffbe",
   "metadata": {},
   "outputs": [],
   "source": []
  }
 ],
 "metadata": {
  "kernelspec": {
   "display_name": "Python 3 (ipykernel)",
   "language": "python",
   "name": "python3"
  },
  "language_info": {
   "codemirror_mode": {
    "name": "ipython",
    "version": 3
   },
   "file_extension": ".py",
   "mimetype": "text/x-python",
   "name": "python",
   "nbconvert_exporter": "python",
   "pygments_lexer": "ipython3",
   "version": "3.9.12"
  }
 },
 "nbformat": 4,
 "nbformat_minor": 5
}
