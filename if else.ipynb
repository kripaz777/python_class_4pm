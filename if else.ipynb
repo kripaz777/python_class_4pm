{
 "cells": [
  {
   "cell_type": "code",
   "execution_count": 1,
   "id": "af4d25f3",
   "metadata": {},
   "outputs": [],
   "source": [
    "# if <condition>:\n",
    "#     <operations>\n",
    "# elif <condition>:\n",
    "#     <operation>\n",
    "# ...\n",
    "# else:\n",
    "#     <operaion>"
   ]
  },
  {
   "cell_type": "code",
   "execution_count": 3,
   "id": "dea778c8",
   "metadata": {},
   "outputs": [
    {
     "data": {
      "text/plain": [
       "True"
      ]
     },
     "execution_count": 3,
     "metadata": {},
     "output_type": "execute_result"
    }
   ],
   "source": [
    "a = 10\n",
    "a%2 ==0"
   ]
  },
  {
   "cell_type": "code",
   "execution_count": 7,
   "id": "4eabc2f4",
   "metadata": {},
   "outputs": [
    {
     "name": "stdout",
     "output_type": "stream",
     "text": [
      "Enter a = 11\n",
      "11 is odd no.\n"
     ]
    }
   ],
   "source": [
    "a = int(input(\"Enter a = \"))\n",
    "if (a%2 == 0):\n",
    "    print(a,\"is even no.\")\n",
    "else:\n",
    "    print(a,\"is odd no.\")"
   ]
  },
  {
   "cell_type": "code",
   "execution_count": 9,
   "id": "77b2e310",
   "metadata": {},
   "outputs": [
    {
     "name": "stdout",
     "output_type": "stream",
     "text": [
      "Enter a = -11\n",
      "-11 is -ve\n"
     ]
    }
   ],
   "source": [
    "a = int(input(\"Enter a = \"))\n",
    "if (a>=0):\n",
    "    print(a,\"is +ve.\")\n",
    "else:\n",
    "    print(a,\"is -ve\")"
   ]
  },
  {
   "cell_type": "code",
   "execution_count": 10,
   "id": "b2d839b4",
   "metadata": {},
   "outputs": [
    {
     "name": "stdout",
     "output_type": "stream",
     "text": [
      "Enter a = 10\n",
      "Enter b = 23\n",
      "b is greater!\n"
     ]
    }
   ],
   "source": [
    "a = int(input(\"Enter a = \"))\n",
    "b = int(input(\"Enter b = \"))\n",
    "if a>b:\n",
    "    print(\"a is greater!\")\n",
    "elif b>a:\n",
    "    print(\"b is greater!\")\n",
    "else:\n",
    "    print(\"a and b both are equal!\")"
   ]
  },
  {
   "cell_type": "code",
   "execution_count": 11,
   "id": "7d1b35d8",
   "metadata": {},
   "outputs": [
    {
     "name": "stdout",
     "output_type": "stream",
     "text": [
      "Enter name = Ram\n",
      "Enter physics marks = 89\n",
      "Enter chemistry marks = 87\n",
      "Enter math marks = 90\n",
      "Enter english marks = 87\n",
      "Enter nepali marks = 67\n",
      "Your name = Ram\n",
      "Total marks = 420\n",
      "Percentage = 84.0 %\n",
      "Grade =  A\n"
     ]
    }
   ],
   "source": [
    "name = input(\"Enter name = \")\n",
    "physics = int(input(\"Enter physics marks = \"))\n",
    "chemistry = int(input(\"Enter chemistry marks = \"))\n",
    "math = int(input(\"Enter math marks = \"))\n",
    "english = int(input(\"Enter english marks = \"))\n",
    "nepali = int(input(\"Enter nepali marks = \"))\n",
    "\n",
    "total = physics + chemistry + math +english +nepali\n",
    "\n",
    "per = total/5\n",
    "\n",
    "if per >= 80:\n",
    "    grade = \"A\"\n",
    "elif per >=60:\n",
    "    grade = \"B\"\n",
    "elif per >=45:\n",
    "    grade = \"C\"\n",
    "else:\n",
    "    grade = \"F\"\n",
    "    \n",
    "print(\"Your name =\",name)\n",
    "print(\"Total marks =\",total)\n",
    "print(\"Percentage =\",per,\"%\")\n",
    "print(\"Grade = \",grade)"
   ]
  },
  {
   "cell_type": "code",
   "execution_count": null,
   "id": "ba30cc76",
   "metadata": {},
   "outputs": [],
   "source": [
    "a + b "
   ]
  },
  {
   "cell_type": "code",
   "execution_count": 15,
   "id": "354630e5",
   "metadata": {},
   "outputs": [
    {
     "name": "stdout",
     "output_type": "stream",
     "text": [
      "Enter a = 10\n",
      "Enter b = 2\n",
      "Enter + or - or * or / /\n",
      "5.0\n"
     ]
    }
   ],
   "source": [
    "a = int(input(\"Enter a = \"))\n",
    "b = int(input(\"Enter b = \"))\n",
    "o = input(\"Enter + or - or * or / \")\n",
    "\n",
    "if o == \"+\":\n",
    "    print(a + b)\n",
    "elif o == '-':\n",
    "    print(a - b)\n",
    "elif o == '*':\n",
    "    print(a * b)\n",
    "elif o == '/':\n",
    "    print(a / b)\n",
    "else:\n",
    "    print(\"Enter valid operator\")"
   ]
  },
  {
   "cell_type": "code",
   "execution_count": null,
   "id": "7d02a11d",
   "metadata": {},
   "outputs": [],
   "source": [
    "# Nested if/else\n",
    "# if <condition>:\n",
    "#     if <condition>:\n",
    "#         <Operations>"
   ]
  },
  {
   "cell_type": "code",
   "execution_count": 18,
   "id": "2a710c7b",
   "metadata": {},
   "outputs": [
    {
     "name": "stdout",
     "output_type": "stream",
     "text": [
      "Enter a = 10\n",
      "Enter b = 2\n",
      "Enter + or - or * or / /\n",
      "5.0\n"
     ]
    }
   ],
   "source": [
    "a = int(input(\"Enter a = \"))\n",
    "b = int(input(\"Enter b = \"))\n",
    "o = input(\"Enter + or - or * or / \")\n",
    "\n",
    "if o == \"+\":\n",
    "    print(a + b)\n",
    "elif o == '-':\n",
    "    print(a - b)\n",
    "elif o == '*':\n",
    "    print(a * b)\n",
    "elif o == '/':\n",
    "    if b != 0:\n",
    "        print(a / b)\n",
    "    else:\n",
    "        print(\"The value of b can not be zero.\")\n",
    "else:\n",
    "    print(\"Enter valid operator\")"
   ]
  },
  {
   "cell_type": "code",
   "execution_count": 19,
   "id": "9d313e00",
   "metadata": {},
   "outputs": [],
   "source": [
    "# logical operator\n",
    "# and or not"
   ]
  },
  {
   "cell_type": "code",
   "execution_count": 21,
   "id": "4ff2455d",
   "metadata": {},
   "outputs": [
    {
     "name": "stdout",
     "output_type": "stream",
     "text": [
      "True\n",
      "False\n",
      "False\n",
      "False\n"
     ]
    }
   ],
   "source": [
    "#and\n",
    "print(True and True)\n",
    "print(True and False)\n",
    "print(False and True)\n",
    "print(False and False)"
   ]
  },
  {
   "cell_type": "code",
   "execution_count": 22,
   "id": "449dc9d6",
   "metadata": {},
   "outputs": [
    {
     "name": "stdout",
     "output_type": "stream",
     "text": [
      "True\n",
      "True\n",
      "True\n",
      "False\n"
     ]
    }
   ],
   "source": [
    "#or\n",
    "print(True or True)\n",
    "print(True or False)\n",
    "print(False or True)\n",
    "print(False or False)"
   ]
  },
  {
   "cell_type": "code",
   "execution_count": 25,
   "id": "55224556",
   "metadata": {},
   "outputs": [
    {
     "name": "stdout",
     "output_type": "stream",
     "text": [
      "Enter a = 10\n",
      "Enter b = 0\n",
      "Enter + or - or * or / /\n",
      "The value of b can not be zero.\n"
     ]
    }
   ],
   "source": [
    "a = int(input(\"Enter a = \"))\n",
    "b = int(input(\"Enter b = \"))\n",
    "o = input(\"Enter + or - or * or / \")\n",
    "\n",
    "if o == '+':\n",
    "    print(a + b)\n",
    "elif o == '-':\n",
    "    print(a - b)\n",
    "elif o == '*':\n",
    "    print(a * b)\n",
    "elif o == '/' and b!=0:\n",
    "    print(a / b)\n",
    "elif o == '/' and b == 0:\n",
    "    print(\"The value of b can not be zero.\")\n",
    "else:\n",
    "    print(\"Enter valid operator\")"
   ]
  },
  {
   "cell_type": "code",
   "execution_count": 28,
   "id": "0a26094e",
   "metadata": {},
   "outputs": [
    {
     "name": "stdout",
     "output_type": "stream",
     "text": [
      "Enter address = Bhaktapur\n",
      "Enter age = 10\n",
      "Sorry\n"
     ]
    }
   ],
   "source": [
    "address = input(\"Enter address = \")\n",
    "age = int(input(\"Enter age = \"))\n",
    "if (address == \"Kathmandu\") or age > 20:\n",
    "    print(\"Welcome to the event\")\n",
    "else:\n",
    "    print(\"Sorry\")"
   ]
  },
  {
   "cell_type": "code",
   "execution_count": null,
   "id": "da62ef38",
   "metadata": {},
   "outputs": [],
   "source": []
  }
 ],
 "metadata": {
  "kernelspec": {
   "display_name": "Python 3 (ipykernel)",
   "language": "python",
   "name": "python3"
  },
  "language_info": {
   "codemirror_mode": {
    "name": "ipython",
    "version": 3
   },
   "file_extension": ".py",
   "mimetype": "text/x-python",
   "name": "python",
   "nbconvert_exporter": "python",
   "pygments_lexer": "ipython3",
   "version": "3.9.12"
  }
 },
 "nbformat": 4,
 "nbformat_minor": 5
}
