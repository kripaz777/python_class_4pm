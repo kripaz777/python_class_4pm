{
 "cells": [
  {
   "cell_type": "code",
   "execution_count": 4,
   "id": "30aee25f",
   "metadata": {},
   "outputs": [
    {
     "name": "stdout",
     "output_type": "stream",
     "text": [
      "The is no such file!\n"
     ]
    }
   ],
   "source": [
    "try:\n",
    "    file = open('data.tsv','r')\n",
    "    file.close()\n",
    "except:\n",
    "    print(\"The is no such file!\")"
   ]
  },
  {
   "cell_type": "code",
   "execution_count": 6,
   "id": "b55b84b5",
   "metadata": {},
   "outputs": [
    {
     "name": "stdout",
     "output_type": "stream",
     "text": [
      "Enter age = Ten\n",
      "The value should be int\n"
     ]
    }
   ],
   "source": [
    "try:\n",
    "    age = int(input(\"Enter age = \"))\n",
    "    print(age)\n",
    "except:\n",
    "    print(\"The value should be int\")"
   ]
  },
  {
   "cell_type": "code",
   "execution_count": 7,
   "id": "21efaed7",
   "metadata": {},
   "outputs": [
    {
     "name": "stdout",
     "output_type": "stream",
     "text": [
      "Enter age = dasda\n"
     ]
    },
    {
     "ename": "ValueError",
     "evalue": "invalid literal for int() with base 10: 'dasda'",
     "output_type": "error",
     "traceback": [
      "\u001b[1;31m---------------------------------------------------------------------------\u001b[0m",
      "\u001b[1;31mValueError\u001b[0m                                Traceback (most recent call last)",
      "Input \u001b[1;32mIn [7]\u001b[0m, in \u001b[0;36m<cell line: 1>\u001b[1;34m()\u001b[0m\n\u001b[1;32m----> 1\u001b[0m age \u001b[38;5;241m=\u001b[39m \u001b[38;5;28;43mint\u001b[39;49m\u001b[43m(\u001b[49m\u001b[38;5;28;43minput\u001b[39;49m\u001b[43m(\u001b[49m\u001b[38;5;124;43m\"\u001b[39;49m\u001b[38;5;124;43mEnter age = \u001b[39;49m\u001b[38;5;124;43m\"\u001b[39;49m\u001b[43m)\u001b[49m\u001b[43m)\u001b[49m\n",
      "\u001b[1;31mValueError\u001b[0m: invalid literal for int() with base 10: 'dasda'"
     ]
    }
   ],
   "source": [
    "age = int(input(\"Enter age = \"))"
   ]
  },
  {
   "cell_type": "code",
   "execution_count": 13,
   "id": "86d272f1",
   "metadata": {},
   "outputs": [
    {
     "name": "stdout",
     "output_type": "stream",
     "text": [
      "Enter a = 10\n",
      "Enter a = 0\n",
      "The value b should not be zero!\n"
     ]
    }
   ],
   "source": [
    "try:\n",
    "    a = int(input(\"Enter a = \"))\n",
    "    b = int(input(\"Enter a = \"))\n",
    "    c = a/b\n",
    "    print(c)\n",
    "except ValueError:\n",
    "    print(\"The value of a and b should be int!\")\n",
    "except ZeroDivisionError:\n",
    "    print(\"The value b should not be zero!\")\n"
   ]
  },
  {
   "cell_type": "code",
   "execution_count": 14,
   "id": "c1615d30",
   "metadata": {},
   "outputs": [],
   "source": [
    "# assert"
   ]
  },
  {
   "cell_type": "code",
   "execution_count": 15,
   "id": "b3036bfa",
   "metadata": {},
   "outputs": [
    {
     "name": "stdout",
     "output_type": "stream",
     "text": [
      "Enter usernamesdsad\n",
      "Enter passwordasdas\n",
      "The username and password does not match\n"
     ]
    }
   ],
   "source": [
    "username1 = \"admin\"\n",
    "password1 = \"admin\"\n",
    "user = input(\"Enter username\")\n",
    "pas  = input(\"Enter password\")\n",
    "try:\n",
    "    assert username == user\n",
    "    assert password == pas\n",
    "except:\n",
    "    print(\"The username and password does not match\")"
   ]
  },
  {
   "cell_type": "code",
   "execution_count": 17,
   "id": "abc76d2b",
   "metadata": {},
   "outputs": [
    {
     "ename": "AssertionError",
     "evalue": "",
     "output_type": "error",
     "traceback": [
      "\u001b[1;31m---------------------------------------------------------------------------\u001b[0m",
      "\u001b[1;31mAssertionError\u001b[0m                            Traceback (most recent call last)",
      "Input \u001b[1;32mIn [17]\u001b[0m, in \u001b[0;36m<cell line: 2>\u001b[1;34m()\u001b[0m\n\u001b[0;32m      1\u001b[0m a \u001b[38;5;241m=\u001b[39m \u001b[38;5;241m10\u001b[39m\n\u001b[1;32m----> 2\u001b[0m \u001b[38;5;28;01massert\u001b[39;00m a\u001b[38;5;241m>\u001b[39m\u001b[38;5;241m11\u001b[39m\n",
      "\u001b[1;31mAssertionError\u001b[0m: "
     ]
    }
   ],
   "source": [
    "a = 10\n",
    "assert a>11"
   ]
  },
  {
   "cell_type": "code",
   "execution_count": null,
   "id": "c8cd01ba",
   "metadata": {},
   "outputs": [],
   "source": [
    "try:\n",
    "    a = int(input(\"Enter a = \"))\n",
    "    b = int(input(\"Enter a = \"))\n",
    "    c = a/b\n",
    "    \n",
    "except ValueError:\n",
    "    print(\"The value of a and b should be int!\")\n",
    "except ZeroDivisionError:\n",
    "    print(\"The value b should not be zero!\")\n",
    "else:\n",
    "    print(c)"
   ]
  }
 ],
 "metadata": {
  "kernelspec": {
   "display_name": "Python 3 (ipykernel)",
   "language": "python",
   "name": "python3"
  },
  "language_info": {
   "codemirror_mode": {
    "name": "ipython",
    "version": 3
   },
   "file_extension": ".py",
   "mimetype": "text/x-python",
   "name": "python",
   "nbconvert_exporter": "python",
   "pygments_lexer": "ipython3",
   "version": "3.9.12"
  }
 },
 "nbformat": 4,
 "nbformat_minor": 5
}
