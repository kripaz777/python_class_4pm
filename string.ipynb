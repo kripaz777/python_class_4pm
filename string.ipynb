{
 "cells": [
  {
   "cell_type": "code",
   "execution_count": 1,
   "id": "e514d7d8",
   "metadata": {},
   "outputs": [
    {
     "name": "stdout",
     "output_type": "stream",
     "text": [
      "<class 'str'>\n"
     ]
    }
   ],
   "source": [
    "s = \"Hello World\"\n",
    "print(type(s))"
   ]
  },
  {
   "cell_type": "code",
   "execution_count": 2,
   "id": "d2bb60ac",
   "metadata": {},
   "outputs": [
    {
     "name": "stdout",
     "output_type": "stream",
     "text": [
      "<class 'str'> <class 'str'> <class 'str'>\n"
     ]
    }
   ],
   "source": [
    "a = 'Hello World'\n",
    "b = \"Hello World\"\n",
    "c = '''Hello World'''\n",
    "print(type(a),type(b),type(c))"
   ]
  },
  {
   "cell_type": "code",
   "execution_count": 3,
   "id": "3dcdab13",
   "metadata": {},
   "outputs": [
    {
     "name": "stdout",
     "output_type": "stream",
     "text": [
      "hello World\n"
     ]
    }
   ],
   "source": [
    "a = \"hello \"\n",
    "b = \"World\"\n",
    "c = a+b\n",
    "print(c)"
   ]
  },
  {
   "cell_type": "code",
   "execution_count": 4,
   "id": "b78c7604",
   "metadata": {},
   "outputs": [
    {
     "name": "stdout",
     "output_type": "stream",
     "text": [
      "Hello World\n",
      "Hello World\n",
      "\n"
     ]
    }
   ],
   "source": [
    "a = \"Hello World\\n\"\n",
    "print(a*2)"
   ]
  },
  {
   "cell_type": "code",
   "execution_count": 6,
   "id": "66377c9a",
   "metadata": {},
   "outputs": [
    {
     "name": "stdout",
     "output_type": "stream",
     "text": [
      "Hello World\n"
     ]
    }
   ],
   "source": [
    "for i in a:\n",
    "    print(i, end = \"\")"
   ]
  },
  {
   "cell_type": "code",
   "execution_count": 11,
   "id": "d7670339",
   "metadata": {},
   "outputs": [
    {
     "name": "stdout",
     "output_type": "stream",
     "text": [
      "H\n",
      "Hello\n",
      "HloWr\n"
     ]
    }
   ],
   "source": [
    "a = \"Hello World I am Python\"\n",
    "print(a[0])\n",
    "print(a[0:5])\n",
    "print(a[0:10:2])"
   ]
  },
  {
   "cell_type": "code",
   "execution_count": 12,
   "id": "92e1c79c",
   "metadata": {},
   "outputs": [
    {
     "name": "stdout",
     "output_type": "stream",
     "text": [
      "Hello\n"
     ]
    }
   ],
   "source": [
    "a = \"Hello World I am Python\"\n",
    "b = a[0:5]\n",
    "print(b)"
   ]
  },
  {
   "cell_type": "code",
   "execution_count": 18,
   "id": "891ae24f",
   "metadata": {},
   "outputs": [
    {
     "name": "stdout",
     "output_type": "stream",
     "text": [
      "nohtyP\n"
     ]
    }
   ],
   "source": [
    "a = \"Python\"\n",
    "print(a[-1:-7:-1])"
   ]
  },
  {
   "cell_type": "code",
   "execution_count": 20,
   "id": "433a0175",
   "metadata": {},
   "outputs": [
    {
     "name": "stdout",
     "output_type": "stream",
     "text": [
      "nohtyP\n"
     ]
    }
   ],
   "source": [
    "a = \"Python\"\n",
    "print(a[::-1])"
   ]
  },
  {
   "cell_type": "code",
   "execution_count": 23,
   "id": "5c0ae1e8",
   "metadata": {},
   "outputs": [
    {
     "name": "stdout",
     "output_type": "stream",
     "text": [
      "Python"
     ]
    }
   ],
   "source": [
    "a = \"Python\"\n",
    "l = len(a)\n",
    "for i in range(l):\n",
    "    print(a[i],end = \"\")"
   ]
  },
  {
   "cell_type": "code",
   "execution_count": 25,
   "id": "813c72e1",
   "metadata": {},
   "outputs": [
    {
     "name": "stdout",
     "output_type": "stream",
     "text": [
      "Python"
     ]
    }
   ],
   "source": [
    "i = 0\n",
    "a = \"Python\"\n",
    "l = len(a)\n",
    "while i<l:\n",
    "    print(a[i],end = \"\")\n",
    "    i = i+1"
   ]
  },
  {
   "cell_type": "code",
   "execution_count": null,
   "id": "a0beddd6",
   "metadata": {},
   "outputs": [],
   "source": [
    "name = \"Ram\"\n",
    "age = 45\n",
    "info = f\"{name} {age}\""
   ]
  },
  {
   "cell_type": "code",
   "execution_count": 28,
   "id": "ca9dbf31",
   "metadata": {},
   "outputs": [
    {
     "name": "stdout",
     "output_type": "stream",
     "text": [
      "Enter n = 2\n",
      "Enter name = Apple\n",
      "Enter price = 300\n",
      "Enter quantity = 3\n",
      "Enter name = Banana\n",
      "Enter price = 100\n",
      "Enter quantity = 4\n",
      "Bill\n",
      " Apple 300 3 900\n",
      "Banana 100 4 400\n",
      "\n",
      "All Total =  1300\n"
     ]
    }
   ],
   "source": [
    "# WAP to create a billing system\n",
    "# name = ?\n",
    "# price = ?\n",
    "# qty = ?\n",
    "# Total = ?\n",
    "info = \"\"\n",
    "all_total = 0\n",
    "n = int(input(\"Enter n = \"))\n",
    "for i in range(n):\n",
    "    name = input(\"Enter name = \")\n",
    "    price = int(input(\"Enter price = \"))\n",
    "    quantity = int(input(\"Enter quantity = \"))\n",
    "    total = price * quantity\n",
    "    info = info + f\"{name} {price} {quantity} {total}\\n\"\n",
    "    all_total = all_total + total\n",
    "print(\"Bill\\n\",info)\n",
    "print(\"All Total = \",all_total)"
   ]
  },
  {
   "cell_type": "code",
   "execution_count": 8,
   "id": "f310025f",
   "metadata": {},
   "outputs": [
    {
     "name": "stdout",
     "output_type": "stream",
     "text": [
      "Yes\n",
      "2\n"
     ]
    }
   ],
   "source": [
    "info = \"Ram Shyam Hari Sita Gita Ramesh\"\n",
    "name = \"Ram\"\n",
    "if name in info:\n",
    "    print(\"Yes\")\n",
    "    print(info.count(name))"
   ]
  },
  {
   "cell_type": "code",
   "execution_count": 13,
   "id": "652591a8",
   "metadata": {},
   "outputs": [
    {
     "name": "stdout",
     "output_type": "stream",
     "text": [
      "Enter name = ram\n",
      "Yes\n",
      "2\n"
     ]
    }
   ],
   "source": [
    "info = \"Ram Shyam Hari Sita Gita Ramesh\".lower()\n",
    "name = input(\"Enter name = \").lower()\n",
    "if name in info:\n",
    "    print(\"Yes\")\n",
    "    print(info.count(name))\n",
    "else:\n",
    "    print(\"There is no any\",name)"
   ]
  },
  {
   "cell_type": "code",
   "execution_count": 12,
   "id": "881adf2a",
   "metadata": {},
   "outputs": [
    {
     "name": "stdout",
     "output_type": "stream",
     "text": [
      "RAM SHYAM HARI SITA GITA RAMESH\n",
      "ram shyam hari sita gita ramesh\n"
     ]
    }
   ],
   "source": [
    "info = \"Ram Shyam Hari Sita Gita Ramesh\"\n",
    "print(info.upper())\n",
    "print(info.lower())"
   ]
  },
  {
   "cell_type": "code",
   "execution_count": 16,
   "id": "be724fde",
   "metadata": {},
   "outputs": [
    {
     "data": {
      "text/plain": [
       "['Ram', 'Shyam', 'Hari', 'Sita', 'Gita', 'Ramesh']"
      ]
     },
     "execution_count": 16,
     "metadata": {},
     "output_type": "execute_result"
    }
   ],
   "source": [
    "info = \"Ram Shyam Hari Sita Gita Ramesh\"\n",
    "info.split()"
   ]
  },
  {
   "cell_type": "code",
   "execution_count": 17,
   "id": "6147e0e1",
   "metadata": {},
   "outputs": [
    {
     "name": "stdout",
     "output_type": "stream",
     "text": [
      "Enter n = 2\n",
      "Enter name = Apple\n",
      "Enter price = 400\n",
      "Enter quantity = 3\n",
      "Enter name = Banana\n",
      "Enter price = 200\n",
      "Enter quantity = 3\n",
      "Bill\n",
      " Apple 400 3 1200\n",
      "Banana 200 3 600\n",
      "\n",
      "All Total =  1800\n"
     ]
    }
   ],
   "source": [
    "# WAP to create a billing system\n",
    "# name = ?\n",
    "# price = ?\n",
    "# qty = ?\n",
    "# Total = ?\n",
    "info = \"\"\n",
    "all_total = 0\n",
    "n = int(input(\"Enter n = \"))\n",
    "for i in range(n):\n",
    "    name = input(\"Enter name = \")\n",
    "    price = int(input(\"Enter price = \"))\n",
    "    quantity = int(input(\"Enter quantity = \"))\n",
    "    total = price * quantity\n",
    "    info = info + f\"{name} {price} {quantity} {total}\\n\"\n",
    "    all_total = all_total + total\n",
    "print(\"Bill\\n\",info)\n",
    "print(\"All Total = \",all_total)"
   ]
  },
  {
   "cell_type": "code",
   "execution_count": 18,
   "id": "c0e92d04",
   "metadata": {},
   "outputs": [
    {
     "data": {
      "text/plain": [
       "'Apple 400 3 1200\\nBanana 200 3 600\\n'"
      ]
     },
     "execution_count": 18,
     "metadata": {},
     "output_type": "execute_result"
    }
   ],
   "source": [
    "info"
   ]
  },
  {
   "cell_type": "code",
   "execution_count": 20,
   "id": "27162c86",
   "metadata": {},
   "outputs": [
    {
     "data": {
      "text/plain": [
       "['Apple 400 3 1200', 'Banana 200 3 600']"
      ]
     },
     "execution_count": 20,
     "metadata": {},
     "output_type": "execute_result"
    }
   ],
   "source": [
    "a = info.split('\\n')[:-1]\n",
    "a"
   ]
  },
  {
   "cell_type": "code",
   "execution_count": 24,
   "id": "7e6063f9",
   "metadata": {},
   "outputs": [
    {
     "data": {
      "text/plain": [
       "[['Apple', '400', '3', '1200'], ['Banana', '200', '3', '600']]"
      ]
     },
     "execution_count": 24,
     "metadata": {},
     "output_type": "execute_result"
    }
   ],
   "source": [
    "bill_list = []\n",
    "for i in a:\n",
    "    bill_list.append(i.split())\n",
    "    \n",
    "bill_list"
   ]
  },
  {
   "cell_type": "code",
   "execution_count": null,
   "id": "72ef54d5",
   "metadata": {},
   "outputs": [],
   "source": []
  }
 ],
 "metadata": {
  "kernelspec": {
   "display_name": "Python 3 (ipykernel)",
   "language": "python",
   "name": "python3"
  },
  "language_info": {
   "codemirror_mode": {
    "name": "ipython",
    "version": 3
   },
   "file_extension": ".py",
   "mimetype": "text/x-python",
   "name": "python",
   "nbconvert_exporter": "python",
   "pygments_lexer": "ipython3",
   "version": "3.9.12"
  }
 },
 "nbformat": 4,
 "nbformat_minor": 5
}
